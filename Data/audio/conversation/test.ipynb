{
 "cells": [
  {
   "cell_type": "code",
   "execution_count": 3,
   "metadata": {},
   "outputs": [
    {
     "name": "stdout",
     "output_type": "stream",
     "text": [
      "'file_name_change\\level_5\\At the Art Class-20241118T004706Z-001.zip'의 압축을 'file_name_change\\level_5\\At the Art Class'에 풀었습니다.\n",
      "'file_name_change\\level_5\\At the Beach-20241118T004706Z-001.zip'의 압축을 'file_name_change\\level_5\\At the Beach'에 풀었습니다.\n",
      "'file_name_change\\level_5\\At the Bookstore-20241118T004708Z-001.zip'의 압축을 'file_name_change\\level_5\\At the Bookstore'에 풀었습니다.\n",
      "'file_name_change\\level_5\\At the Concert Hall-20241118T004709Z-001.zip'의 압축을 'file_name_change\\level_5\\At the Concert Hall'에 풀었습니다.\n",
      "'file_name_change\\level_5\\At the Cooking Club-20241118T004711Z-001.zip'의 압축을 'file_name_change\\level_5\\At the Cooking Club'에 풀었습니다.\n",
      "'file_name_change\\level_5\\At the History Museum-20241118T004713Z-001.zip'의 압축을 'file_name_change\\level_5\\At the History Museum'에 풀었습니다.\n",
      "'file_name_change\\level_5\\At the Library-20241118T004801Z-001.zip'의 압축을 'file_name_change\\level_5\\At the Library'에 풀었습니다.\n",
      "'file_name_change\\level_5\\At the Pet Shop-20241118T004716Z-001.zip'의 압축을 'file_name_change\\level_5\\At the Pet Shop'에 풀었습니다.\n",
      "'file_name_change\\level_5\\At the Science Museum-20241118T004718Z-001.zip'의 압축을 'file_name_change\\level_5\\At the Science Museum'에 풀었습니다.\n",
      "'file_name_change\\level_5\\At the Sports Field-20241118T004719Z-001.zip'의 압축을 'file_name_change\\level_5\\At the Sports Field'에 풀었습니다.\n",
      "'file_name_change\\level_6\\At the Amusement Park-20241118T004359Z-001.zip'의 압축을 'file_name_change\\level_6\\At the Amusement Park'에 풀었습니다.\n",
      "'file_name_change\\level_6\\At the Animal Shelter-20241118T004612Z-001.zip'의 압축을 'file_name_change\\level_6\\At the Animal Shelter'에 풀었습니다.\n",
      "'file_name_change\\level_6\\At the Art Exhibition-20241118T004613Z-001.zip'의 압축을 'file_name_change\\level_6\\At the Art Exhibition'에 풀었습니다.\n",
      "'file_name_change\\level_6\\At the Craft Workshop-20241118T004401Z-001.zip'의 압축을 'file_name_change\\level_6\\At the Craft Workshop'에 풀었습니다.\n",
      "'file_name_change\\level_6\\At the Farmer’s Market-20241118T004403Z-001.zip'의 압축을 'file_name_change\\level_6\\At the Farmer’s Market'에 풀었습니다.\n",
      "'file_name_change\\level_6\\At the Flower Shop-20241118T004620Z-001.zip'의 압축을 'file_name_change\\level_6\\At the Flower Shop'에 풀었습니다.\n",
      "'file_name_change\\level_6\\At the Food Court-20241118T004405Z-001.zip'의 압축을 'file_name_change\\level_6\\At the Food Court'에 풀었습니다.\n",
      "'file_name_change\\level_6\\At the Gym-20241118T004625Z-001.zip'의 압축을 'file_name_change\\level_6\\At the Gym'에 풀었습니다.\n",
      "'file_name_change\\level_6\\At the Library Event-20241118T004627Z-001.zip'의 압축을 'file_name_change\\level_6\\At the Library Event'에 풀었습니다.\n",
      "'file_name_change\\level_6\\At the Museum of Natural History-20241118T004408Z-001.zip'의 압축을 'file_name_change\\level_6\\At the Museum of Natural History'에 풀었습니다.\n",
      "'file_name_change\\level_7\\At a Cafe-20241118T003840Z-001.zip'의 압축을 'file_name_change\\level_7\\At a Cafe'에 풀었습니다.\n",
      "'file_name_change\\level_7\\At a Science Fair-20241118T003846Z-001.zip'의 압축을 'file_name_change\\level_7\\At a Science Fair'에 풀었습니다.\n",
      "'file_name_change\\level_7\\At the Airport-20241118T003852Z-001.zip'의 압축을 'file_name_change\\level_7\\At the Airport'에 풀었습니다.\n",
      "'file_name_change\\level_7\\At the Animal Shelter-20241118T003858Z-001.zip'의 압축을 'file_name_change\\level_7\\At the Animal Shelter'에 풀었습니다.\n",
      "'file_name_change\\level_7\\At the Aquarium-20241118T003902Z-001.zip'의 압축을 'file_name_change\\level_7\\At the Aquarium'에 풀었습니다.\n",
      "'file_name_change\\level_7\\At the Bakery-20241118T004245Z-001.zip'의 압축을 'file_name_change\\level_7\\At the Bakery'에 풀었습니다.\n",
      "'file_name_change\\level_7\\At the Electronics Store-20241118T003914Z-001.zip'의 압축을 'file_name_change\\level_7\\At the Electronics Store'에 풀었습니다.\n",
      "'file_name_change\\level_7\\At the Garden Center-20241118T003955Z-001.zip'의 압축을 'file_name_change\\level_7\\At the Garden Center'에 풀었습니다.\n",
      "'file_name_change\\level_7\\At the Photography Class-20241118T003947Z-001.zip'의 압축을 'file_name_change\\level_7\\At the Photography Class'에 풀었습니다.\n",
      "모든 압축 파일의 처리가 완료되었습니다!\n"
     ]
    }
   ],
   "source": [
    "import os\n",
    "import zipfile\n",
    "\n",
    "# 파일 경로 설정\n",
    "base_folder = 'file_name_change'\n",
    "\n",
    "# level_1부터 level_7 폴더 순회\n",
    "for level_folder in [f\"level_{i}\" for i in range(5, 8)]:\n",
    "    level_path = os.path.join(base_folder, level_folder)\n",
    "    \n",
    "    # 해당 level 폴더 내 zip 파일 순회\n",
    "    for zip_file in os.listdir(level_path):\n",
    "        if zip_file.endswith('.zip'):\n",
    "            zip_path = os.path.join(level_path, zip_file)  # ZIP 파일의 전체 경로\n",
    "            \n",
    "            # 언더바(_) 이전의 이름으로 폴더 생성\n",
    "            folder_name = zip_file.split('-')[0]  # 언더바(_) 이전의 텍스트 추출\n",
    "            extract_to = os.path.join(level_path, folder_name)  # 압축 풀 위치\n",
    "            \n",
    "            # 폴더가 없으면 생성\n",
    "            if not os.path.exists(extract_to):\n",
    "                os.makedirs(extract_to)\n",
    "            \n",
    "            # ZIP 파일 압축 풀기\n",
    "            with zipfile.ZipFile(zip_path, 'r') as zip_ref:\n",
    "                zip_ref.extractall(extract_to)\n",
    "            \n",
    "            print(f\"'{zip_path}'의 압축을 '{extract_to}'에 풀었습니다.\")\n",
    "\n",
    "print(\"모든 압축 파일의 처리가 완료되었습니다!\")\n",
    "\n"
   ]
  }
 ],
 "metadata": {
  "kernelspec": {
   "display_name": "espnet",
   "language": "python",
   "name": "python3"
  },
  "language_info": {
   "codemirror_mode": {
    "name": "ipython",
    "version": 3
   },
   "file_extension": ".py",
   "mimetype": "text/x-python",
   "name": "python",
   "nbconvert_exporter": "python",
   "pygments_lexer": "ipython3",
   "version": "3.8.20"
  }
 },
 "nbformat": 4,
 "nbformat_minor": 2
}
