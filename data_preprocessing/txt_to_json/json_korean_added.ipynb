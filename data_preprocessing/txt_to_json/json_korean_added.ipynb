{
 "cells": [
  {
   "cell_type": "code",
   "execution_count": 14,
   "metadata": {},
   "outputs": [
    {
     "name": "stdout",
     "output_type": "stream",
     "text": [
      "환경 변수 설정 성공: C:/Users/user/Desktop/eco-emissary-442807-d2-7c376688c337.json\n"
     ]
    }
   ],
   "source": [
    "import os\n",
    "\n",
    "# JSON 키 파일 경로\n",
    "key_path = \"C:/Users/user/Desktop/eco-emissary-442807-d2-7c376688c337.json\"\n",
    "\n",
    "# 환경 변수 설정\n",
    "os.environ[\"GOOGLE_APPLICATION_CREDENTIALS\"] = key_path\n",
    "\n",
    "# 환경 변수 확인\n",
    "if os.getenv(\"GOOGLE_APPLICATION_CREDENTIALS\") == key_path:\n",
    "    print(f\"환경 변수 설정 성공: {os.getenv('GOOGLE_APPLICATION_CREDENTIALS')}\")\n",
    "else:\n",
    "    print(\"환경 변수 설정 실패. 값이 None입니다.\")\n"
   ]
  },
  {
   "cell_type": "code",
   "execution_count": 15,
   "metadata": {},
   "outputs": [
    {
     "name": "stdout",
     "output_type": "stream",
     "text": [
      "환경 변수 확인 성공: C:/Users/user/Desktop/eco-emissary-442807-d2-7c376688c337.json\n",
      "파일이 존재합니다: C:/Users/user/Desktop/eco-emissary-442807-d2-7c376688c337.json\n"
     ]
    }
   ],
   "source": [
    "import os\n",
    "\n",
    "# 환경 변수 값 확인\n",
    "key_path = os.environ.get(\"GOOGLE_APPLICATION_CREDENTIALS\")\n",
    "\n",
    "if key_path:\n",
    "    print(f\"환경 변수 확인 성공: {key_path}\")\n",
    "    if os.path.exists(key_path):\n",
    "        print(f\"파일이 존재합니다: {key_path}\")\n",
    "    else:\n",
    "        print(f\"파일이 없습니다. 경로를 확인하세요: {key_path}\")\n",
    "else:\n",
    "    print(\"환경 변수가 설정되지 않았습니다.\")\n"
   ]
  },
  {
   "cell_type": "code",
   "execution_count": 3,
   "metadata": {},
   "outputs": [
    {
     "name": "stdout",
     "output_type": "stream",
     "text": [
      "번역이 완료되었습니다. 파일 저장 위치: ../../Data/text/translated_phonics.json\n"
     ]
    }
   ],
   "source": [
    "import os\n",
    "from google.cloud import translate_v2 as translate\n",
    "import json\n",
    "from dotenv import load_dotenv\n",
    "\n",
    "# .env 파일 로드\n",
    "load_dotenv()\n",
    "\n",
    "# Google Cloud Translation API 키 설정\n",
    "os.environ[\"GOOGLE_APPLICATION_CREDENTIALS\"] = os.getenv(\"KEY_PATH1\")\n",
    "\n",
    "# Google Translation API 클라이언트 초기화\n",
    "translate_client = translate.Client()\n",
    "\n",
    "def translate_text(text, target_language=\"ko\"):\n",
    "    \"\"\"텍스트를 타겟 언어로 번역\"\"\"\n",
    "    if isinstance(text, str) and text.strip():\n",
    "        result = translate_client.translate(text, target_language=target_language)\n",
    "        return result['translatedText']\n",
    "    return text  # 텍스트가 없으면 원문 그대로 반환\n",
    "\n",
    "def translate_and_add_to_json(input_file, output_file):\n",
    "    \"\"\"JSON 파일에서 텍스트 번역 및 번역본 추가\"\"\"\n",
    "    with open(input_file, \"r\", encoding=\"utf-8\") as f:\n",
    "        data = json.load(f)\n",
    "\n",
    "    for category in data.get(\"categories\", []):\n",
    "        for level in category.get(\"levels\", []):\n",
    "            scripts = level.get(\"scripts\", [])\n",
    "            translated_scripts = []\n",
    "            for script in scripts:\n",
    "                # 원본 script 유지\n",
    "                translated_scripts.append(script)\n",
    "\n",
    "                # 번역된 script 생성\n",
    "                translated_script = {\n",
    "                    \"title\": translate_text(script[\"title\"]),\n",
    "                    \"contents\": [translate_text(content) for content in script[\"contents\"]]\n",
    "                }\n",
    "                translated_scripts.append(translated_script)\n",
    "\n",
    "            level[\"scripts\"] = translated_scripts\n",
    "\n",
    "    # 번역된 JSON 저장\n",
    "    with open(output_file, \"w\", encoding=\"utf-8\") as f:\n",
    "        json.dump(data, f, ensure_ascii=False, indent=4)\n",
    "\n",
    "    print(f\"번역이 완료되었습니다. 파일 저장 위치: {output_file}\")\n",
    "\n",
    "# JSON 파일 경로 설정\n",
    "input_json_path = \"../../Data/text/phonics.json\"  # 입력 JSON 파일\n",
    "output_json_path = \"../../Data/text/translated_phonics.json\"  # 번역된 JSON 저장 경로\n",
    "\n",
    "# JSON 번역 실행\n",
    "translate_and_add_to_json(input_json_path, output_json_path)\n",
    "\n",
    "\n"
   ]
  }
 ],
 "metadata": {
  "kernelspec": {
   "display_name": "myenv",
   "language": "python",
   "name": "python3"
  },
  "language_info": {
   "codemirror_mode": {
    "name": "ipython",
    "version": 3
   },
   "file_extension": ".py",
   "mimetype": "text/x-python",
   "name": "python",
   "nbconvert_exporter": "python",
   "pygments_lexer": "ipython3",
   "version": "3.9.19"
  }
 },
 "nbformat": 4,
 "nbformat_minor": 2
}
