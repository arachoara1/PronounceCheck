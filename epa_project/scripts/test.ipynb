{
 "cells": [
  {
   "cell_type": "code",
   "execution_count": null,
   "metadata": {},
   "outputs": [
    {
     "name": "stdout",
     "output_type": "stream",
     "text": [
      "File found at: ../../Data/text/translated_conversation.json\n"
     ]
    }
   ],
   "source": [
    "import os\n",
    "\n",
    "# JSON 파일 경로\n",
    "json_path = '../../Data/text/translated_conversation.json'\n",
    "\n",
    "# 파일 존재 여부 확인\n",
    "if os.path.exists(json_path):\n",
    "    print(f\"File found at: {json_path}\")\n",
    "else:\n",
    "    print(f\"File not found at: {json_path}\")\n"
   ]
  },
  {
   "cell_type": "code",
   "execution_count": 5,
   "metadata": {},
   "outputs": [
    {
     "ename": "NameError",
     "evalue": "name '__file__' is not defined",
     "output_type": "error",
     "traceback": [
      "\u001b[1;31m---------------------------------------------------------------------------\u001b[0m",
      "\u001b[1;31mNameError\u001b[0m                                 Traceback (most recent call last)",
      "Cell \u001b[1;32mIn[5], line 6\u001b[0m\n\u001b[0;32m      3\u001b[0m \u001b[38;5;28;01mimport\u001b[39;00m \u001b[38;5;21;01mdjango\u001b[39;00m\n\u001b[0;32m      5\u001b[0m \u001b[38;5;66;03m# 현재 작업 디렉토리를 기준으로 Django 프로젝트의 최상위 디렉토리를 Python 경로에 추가\u001b[39;00m\n\u001b[1;32m----> 6\u001b[0m current_dir \u001b[38;5;241m=\u001b[39m os\u001b[38;5;241m.\u001b[39mpath\u001b[38;5;241m.\u001b[39mdirname(os\u001b[38;5;241m.\u001b[39mpath\u001b[38;5;241m.\u001b[39mabspath(\u001b[38;5;18;43m__file__\u001b[39;49m))  \u001b[38;5;66;03m# 현재 파일의 절대 경로\u001b[39;00m\n\u001b[0;32m      7\u001b[0m sys\u001b[38;5;241m.\u001b[39mpath\u001b[38;5;241m.\u001b[39mappend(os\u001b[38;5;241m.\u001b[39mpath\u001b[38;5;241m.\u001b[39mjoin(current_dir, \u001b[38;5;124m'\u001b[39m\u001b[38;5;124m..\u001b[39m\u001b[38;5;124m'\u001b[39m, \u001b[38;5;124m'\u001b[39m\u001b[38;5;124m..\u001b[39m\u001b[38;5;124m'\u001b[39m, \u001b[38;5;124m'\u001b[39m\u001b[38;5;124mepa_project\u001b[39m\u001b[38;5;124m'\u001b[39m))\n\u001b[0;32m      9\u001b[0m \u001b[38;5;66;03m# Django 설정 초기화\u001b[39;00m\n",
      "\u001b[1;31mNameError\u001b[0m: name '__file__' is not defined"
     ]
    }
   ],
   "source": [
    "import os\n",
    "import sys\n",
    "import django\n",
    "\n",
    "# 현재 작업 디렉토리를 기준으로 Django 프로젝트의 최상위 디렉토리를 Python 경로에 추가\n",
    "current_dir = os.path.dirname(os.path.abspath(__file__))  # 현재 파일의 절대 경로\n",
    "sys.path.append(os.path.join(current_dir, '..', '..', 'epa_project'))\n",
    "\n",
    "# Django 설정 초기화\n",
    "os.environ.setdefault(\"DJANGO_SETTINGS_MODULE\", \"epa_project.settings\")\n",
    "django.setup()\n",
    "\n"
   ]
  }
 ],
 "metadata": {
  "kernelspec": {
   "display_name": "myenv",
   "language": "python",
   "name": "python3"
  },
  "language_info": {
   "codemirror_mode": {
    "name": "ipython",
    "version": 3
   },
   "file_extension": ".py",
   "mimetype": "text/x-python",
   "name": "python",
   "nbconvert_exporter": "python",
   "pygments_lexer": "ipython3",
   "version": "3.9.19"
  }
 },
 "nbformat": 4,
 "nbformat_minor": 2
}
